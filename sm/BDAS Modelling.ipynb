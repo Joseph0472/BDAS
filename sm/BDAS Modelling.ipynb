{
 "cells": [
  {
   "cell_type": "code",
   "execution_count": 49,
   "metadata": {},
   "outputs": [],
   "source": [
    "import findspark\n",
    "findspark.init('/home/ubuntu/spark-2.1.1-bin-hadoop2.7')\n",
    "import pyspark\n",
    "from pyspark.sql import SparkSession\n",
    "spark = SparkSession.builder.appName('basics').getOrCreate()\n",
    "%matplotlib inline\n",
    "import matplotlib.pyplot as plt\n",
    "import numpy as np\n",
    "import seaborn as sns\n",
    "import pandas"
   ]
  },
  {
   "cell_type": "code",
   "execution_count": 50,
   "metadata": {},
   "outputs": [],
   "source": [
    "df = spark.read.format(\"csv\").option(\"header\",\"true\").load(\"./2010_RD_Scoreboard_Global_cleaned_constructed_done.csv\")"
   ]
  },
  {
   "cell_type": "code",
   "execution_count": 51,
   "metadata": {},
   "outputs": [
    {
     "data": {
      "text/plain": [
       "1000"
      ]
     },
     "execution_count": 51,
     "metadata": {},
     "output_type": "execute_result"
    }
   ],
   "source": [
    "df.count()"
   ]
  },
  {
   "cell_type": "code",
   "execution_count": 52,
   "metadata": {},
   "outputs": [
    {
     "name": "stdout",
     "output_type": "stream",
     "text": [
      "+-------+--------------------+-----------------+---------+--------------------+--------+-----------------+------------------+--------------------+--------------+-------------------+---------------------------+---------------------------+----------------------------------+-----------------------+--------------------+------------------+--------------+----------------------+----------------------+-------------------------+------------------+------------------+------------------+------------------+----------------------+----------------------+------------------+----------------------------+----------------------------+---------------------+------------------+------------------+----------------------+-----------------+-----------------+-----------------+------------------+\n",
      "|summary|             Company|       Company ID|  Country|       Country GDP $|Not IFRS|   Industry group|          ICB code|Industry description|Listing status|2009 R&D investment|1 Yr R&D investment growth%|4 Yr R&D investment growth%|R&D investment / operation profit%|R&D investment / sales%|R&D + capex / sales%|  Operating profit|If made profit|1 Yr operating profit%|4 Yr operating profit%|Operating profit / sales%|             Sales|1 Yr sales growth%|4 Yr sales growth%|         Employees|1 Yr employees growth%|4 Yr employees growth%|  R&D / employees |1 Yr R&D / employees growth%|4 Yr R&D / employees growth%|Sales outside region%|        Market cap|Market cap change%|If market cap increase|   R&D spend 2008|   R&D spend 2007|   R&D spend 2006|    R&D spend 2005|\n",
      "+-------+--------------------+-----------------+---------+--------------------+--------+-----------------+------------------+--------------------+--------------+-------------------+---------------------------+---------------------------+----------------------------------+-----------------------+--------------------+------------------+--------------+----------------------+----------------------+-------------------------+------------------+------------------+------------------+------------------+----------------------+----------------------+------------------+----------------------------+----------------------------+---------------------+------------------+------------------+----------------------+-----------------+-----------------+-----------------+------------------+\n",
      "|  count|                1000|             1000|     1000|                 999|     686|             1000|              1000|                1000|          1000|               1000|                        997|                        959|                               749|                    999|                 999|              1000|          1000|                   829|                   861|                      999|              1000|               998|               971|               938|                   925|                   881|               938|                         925|                         871|                  414|               915|               891|                  1000|              998|              986|              960|               938|\n",
      "|   mean|                null|            500.5|     null|  6.7845305076206E12|    null|           21.933|          4898.845|                null|          null| 344.01706000000064|          4.707121364092277|         27.550573514077165|                 2455.390787716957|     29.179479479479465|   35.11111111111115|          767.5885|          null|   -167.93244873341376|    -80.68641114982579|       -20.36766766766769|         9554.0055|-3.934869739478958|12.223480947476828|39100.518123667374|    0.5221621621621622|    10.779795686719638| 23.85213219616205|           4.624864864864865|          15.486796785304248|    44.56280193236715|10276.604918032786|39.402918069584736|                  null|351.2296893787574|327.8509939148074|305.0490208333339|283.04523454157754|\n",
      "| stddev|                null|288.8194360957496|     null|5.847740931733301E12|    null|13.54954246833085|2958.1980235476994|                null|          null|  716.3581396597746|          31.46787868595996|          67.91197865369779|                 44317.48713431463|     402.03083420632635|   405.6701165893959|2293.6262242733496|          null|    3825.6490201510915|      997.952160928155|       502.05162261385425|18138.994652466885| 30.92068941071608| 46.90699840773325| 65794.42114900915|    15.798131145833281|    27.342758729839396|40.200800959642656|          27.662796920238097|           50.99614137040324|    24.13119243436802|20100.440174710067| 599.8996136549727|                  null|741.5450337361714|717.2556298774444|667.4289307342806| 647.0012199060138|\n",
      "|    min|3Com, USA (now pa...|                1|Australia|    1027729851625.48|       *|                1|              1353|           Aerospace| FT Global 500|             100.43|                         -1|                         -1|                               0.8|                    0.1|                 0.1|              -0.5|            No|                    -1|                    -1|                     -0.1|                 0|                -1|                -1|             10000|                    -1|                    -1|               0.2|                          -1|                          -1|                    0|               0.5|                -1|                    No|             0.00|             0.00|             0.00|              0.00|\n",
      "|    max|voestalpine, Austria|              999|      USA|    835338475725.744|       *|                9|              9578|               Water|      Unlisted|              99.70|                         97|                         99|                              99.8|                    9.9|                 9.9|              9980|           Yes|                    95|                    97|                      9.9|               999|                 9|                98|             99834|                    99|                    96|              98.6|                          97|                          98|                   99|              9999|                99|                   Yes|            99.82|           997.78|           998.82|             99.70|\n",
      "+-------+--------------------+-----------------+---------+--------------------+--------+-----------------+------------------+--------------------+--------------+-------------------+---------------------------+---------------------------+----------------------------------+-----------------------+--------------------+------------------+--------------+----------------------+----------------------+-------------------------+------------------+------------------+------------------+------------------+----------------------+----------------------+------------------+----------------------------+----------------------------+---------------------+------------------+------------------+----------------------+-----------------+-----------------+-----------------+------------------+\n",
      "\n"
     ]
    }
   ],
   "source": [
    "df.describe().show()"
   ]
  },
  {
   "cell_type": "code",
   "execution_count": 53,
   "metadata": {},
   "outputs": [
    {
     "name": "stdout",
     "output_type": "stream",
     "text": [
      "root\n",
      " |-- Company: string (nullable = true)\n",
      " |-- Company ID: string (nullable = true)\n",
      " |-- Country: string (nullable = true)\n",
      " |-- Country GDP $: string (nullable = true)\n",
      " |-- Not IFRS: string (nullable = true)\n",
      " |-- Industry group: string (nullable = true)\n",
      " |-- ICB code: string (nullable = true)\n",
      " |-- Industry description: string (nullable = true)\n",
      " |-- Listing status: string (nullable = true)\n",
      " |-- 2009 R&D investment: string (nullable = true)\n",
      " |-- 1 Yr R&D investment growth%: string (nullable = true)\n",
      " |-- 4 Yr R&D investment growth%: string (nullable = true)\n",
      " |-- R&D investment / operation profit%: string (nullable = true)\n",
      " |-- R&D investment / sales%: string (nullable = true)\n",
      " |-- R&D + capex / sales%: string (nullable = true)\n",
      " |-- Operating profit: string (nullable = true)\n",
      " |-- If made profit: string (nullable = true)\n",
      " |-- 1 Yr operating profit%: string (nullable = true)\n",
      " |-- 4 Yr operating profit%: string (nullable = true)\n",
      " |-- Operating profit / sales%: string (nullable = true)\n",
      " |-- Sales: string (nullable = true)\n",
      " |-- 1 Yr sales growth%: string (nullable = true)\n",
      " |-- 4 Yr sales growth%: string (nullable = true)\n",
      " |-- Employees: string (nullable = true)\n",
      " |-- 1 Yr employees growth%: string (nullable = true)\n",
      " |-- 4 Yr employees growth%: string (nullable = true)\n",
      " |-- R&D / employees : string (nullable = true)\n",
      " |-- 1 Yr R&D / employees growth%: string (nullable = true)\n",
      " |-- 4 Yr R&D / employees growth%: string (nullable = true)\n",
      " |-- Sales outside region%: string (nullable = true)\n",
      " |-- Market cap: string (nullable = true)\n",
      " |-- Market cap change%: string (nullable = true)\n",
      " |-- If market cap increase: string (nullable = true)\n",
      " |-- R&D spend 2008: string (nullable = true)\n",
      " |-- R&D spend 2007: string (nullable = true)\n",
      " |-- R&D spend 2006: string (nullable = true)\n",
      " |-- R&D spend 2005: string (nullable = true)\n",
      "\n"
     ]
    }
   ],
   "source": [
    "df.printSchema()"
   ]
  },
  {
   "cell_type": "code",
   "execution_count": 54,
   "metadata": {},
   "outputs": [
    {
     "data": {
      "text/plain": [
       "['Company',\n",
       " 'Company ID',\n",
       " 'Country',\n",
       " 'Country GDP $',\n",
       " 'Not IFRS',\n",
       " 'Industry group',\n",
       " 'ICB code',\n",
       " 'Industry description',\n",
       " 'Listing status',\n",
       " '2009 R&D investment',\n",
       " '1 Yr R&D investment growth%',\n",
       " '4 Yr R&D investment growth%',\n",
       " 'R&D investment / operation profit%',\n",
       " 'R&D investment / sales%',\n",
       " 'R&D + capex / sales%',\n",
       " 'Operating profit',\n",
       " 'If made profit',\n",
       " '1 Yr operating profit%',\n",
       " '4 Yr operating profit%',\n",
       " 'Operating profit / sales%',\n",
       " 'Sales',\n",
       " '1 Yr sales growth%',\n",
       " '4 Yr sales growth%',\n",
       " 'Employees',\n",
       " '1 Yr employees growth%',\n",
       " '4 Yr employees growth%',\n",
       " 'R&D / employees ',\n",
       " '1 Yr R&D / employees growth%',\n",
       " '4 Yr R&D / employees growth%',\n",
       " 'Sales outside region%',\n",
       " 'Market cap',\n",
       " 'Market cap change%',\n",
       " 'If market cap increase',\n",
       " 'R&D spend 2008',\n",
       " 'R&D spend 2007',\n",
       " 'R&D spend 2006',\n",
       " 'R&D spend 2005']"
      ]
     },
     "execution_count": 54,
     "metadata": {},
     "output_type": "execute_result"
    }
   ],
   "source": [
    "df.columns"
   ]
  },
  {
   "cell_type": "code",
   "execution_count": 55,
   "metadata": {},
   "outputs": [
    {
     "data": {
      "text/plain": [
       "[('Company', 'string'),\n",
       " ('Company ID', 'string'),\n",
       " ('Country', 'string'),\n",
       " ('Country GDP $', 'string'),\n",
       " ('Not IFRS', 'string'),\n",
       " ('Industry group', 'string'),\n",
       " ('ICB code', 'string'),\n",
       " ('Industry description', 'string'),\n",
       " ('Listing status', 'string'),\n",
       " ('2009 R&D investment', 'string'),\n",
       " ('1 Yr R&D investment growth%', 'string'),\n",
       " ('4 Yr R&D investment growth%', 'string'),\n",
       " ('R&D investment / operation profit%', 'string'),\n",
       " ('R&D investment / sales%', 'string'),\n",
       " ('R&D + capex / sales%', 'string'),\n",
       " ('Operating profit', 'string'),\n",
       " ('If made profit', 'string'),\n",
       " ('1 Yr operating profit%', 'string'),\n",
       " ('4 Yr operating profit%', 'string'),\n",
       " ('Operating profit / sales%', 'string'),\n",
       " ('Sales', 'string'),\n",
       " ('1 Yr sales growth%', 'string'),\n",
       " ('4 Yr sales growth%', 'string'),\n",
       " ('Employees', 'string'),\n",
       " ('1 Yr employees growth%', 'string'),\n",
       " ('4 Yr employees growth%', 'string'),\n",
       " ('R&D / employees ', 'string'),\n",
       " ('1 Yr R&D / employees growth%', 'string'),\n",
       " ('4 Yr R&D / employees growth%', 'string'),\n",
       " ('Sales outside region%', 'string'),\n",
       " ('Market cap', 'string'),\n",
       " ('Market cap change%', 'string'),\n",
       " ('If market cap increase', 'string'),\n",
       " ('R&D spend 2008', 'string'),\n",
       " ('R&D spend 2007', 'string'),\n",
       " ('R&D spend 2006', 'string'),\n",
       " ('R&D spend 2005', 'string')]"
      ]
     },
     "execution_count": 55,
     "metadata": {},
     "output_type": "execute_result"
    }
   ],
   "source": [
    "df.dtypes"
   ]
  },
  {
   "cell_type": "code",
   "execution_count": 56,
   "metadata": {},
   "outputs": [
    {
     "name": "stdout",
     "output_type": "stream",
     "text": [
      "root\n",
      " |-- Company: string (nullable = true)\n",
      " |-- Company ID: string (nullable = true)\n",
      " |-- Country: string (nullable = true)\n",
      " |-- Country GDP $: string (nullable = true)\n",
      " |-- Not IFRS: string (nullable = true)\n",
      " |-- Industry group: string (nullable = true)\n",
      " |-- ICB code: string (nullable = true)\n",
      " |-- Industry description: string (nullable = true)\n",
      " |-- Listing status: string (nullable = true)\n",
      " |-- 2009 R&D investment: string (nullable = true)\n",
      " |-- 1 Yr R&D investment growth%: string (nullable = true)\n",
      " |-- 4 Yr R&D investment growth%: string (nullable = true)\n",
      " |-- R&D investment / operation profit%: string (nullable = true)\n",
      " |-- R&D investment / sales%: string (nullable = true)\n",
      " |-- R&D + capex / sales%: string (nullable = true)\n",
      " |-- Operating profit: string (nullable = true)\n",
      " |-- If made profit: string (nullable = true)\n",
      " |-- 1 Yr operating profit%: string (nullable = true)\n",
      " |-- 4 Yr operating profit%: string (nullable = true)\n",
      " |-- Operating profit / sales%: string (nullable = true)\n",
      " |-- Sales: string (nullable = true)\n",
      " |-- 1 Yr sales growth%: string (nullable = true)\n",
      " |-- 4 Yr sales growth%: string (nullable = true)\n",
      " |-- Employees: string (nullable = true)\n",
      " |-- 1 Yr employees growth%: string (nullable = true)\n",
      " |-- 4 Yr employees growth%: string (nullable = true)\n",
      " |-- R&D / employees : string (nullable = true)\n",
      " |-- 1 Yr R&D / employees growth%: string (nullable = true)\n",
      " |-- 4 Yr R&D / employees growth%: string (nullable = true)\n",
      " |-- Sales outside region%: string (nullable = true)\n",
      " |-- Market cap: string (nullable = true)\n",
      " |-- Market cap change%: string (nullable = true)\n",
      " |-- If market cap increase: string (nullable = true)\n",
      " |-- R&D spend 2008: string (nullable = true)\n",
      " |-- R&D spend 2007: string (nullable = true)\n",
      " |-- R&D spend 2006: string (nullable = true)\n",
      " |-- R&D spend 2005: string (nullable = true)\n",
      "\n"
     ]
    }
   ],
   "source": [
    "df.printSchema()"
   ]
  },
  {
   "cell_type": "code",
   "execution_count": 57,
   "metadata": {},
   "outputs": [],
   "source": [
    "TargetData = pandas.read_csv(\"./2010_RD_Scoreboard_Global_cleaned_constructed_done.csv\")"
   ]
  },
  {
   "cell_type": "code",
   "execution_count": 58,
   "metadata": {},
   "outputs": [
    {
     "data": {
      "text/plain": [
       "<matplotlib.axes._subplots.AxesSubplot at 0x7fdf940f5ef0>"
      ]
     },
     "execution_count": 58,
     "metadata": {},
     "output_type": "execute_result"
    },
    {
     "data": {
      "image/png": "[encoded data removed]",
      "text/plain": [
       "<Figure size 3600x720 with 1 Axes>"
      ]
     },
     "metadata": {},
     "output_type": "display_data"
    }
   ],
   "source": [
    "sns.set(style='whitegrid', color_codes=True)\n",
    "sns.set(rc={'figure.figsize':(50, 10)})\n",
    "sns.countplot('Country',data=TargetData, hue='If made profit')"
   ]
  },
  {
   "cell_type": "code",
   "execution_count": 59,
   "metadata": {},
   "outputs": [
    {
     "name": "stdout",
     "output_type": "stream",
     "text": [
      "+-------+--------------------+-----------------+---------+--------------------+--------+-----------------+------------------+--------------------+--------------+-------------------+---------------------------+---------------------------+----------------------------------+-----------------------+--------------------+------------------+--------------+----------------------+----------------------+-------------------------+------------------+------------------+------------------+------------------+----------------------+----------------------+------------------+----------------------------+----------------------------+---------------------+------------------+------------------+----------------------+-----------------+-----------------+-----------------+------------------+\n",
      "|summary|             Company|       Company ID|  Country|       Country GDP $|Not IFRS|   Industry group|          ICB code|Industry description|Listing status|2009 R&D investment|1 Yr R&D investment growth%|4 Yr R&D investment growth%|R&D investment / operation profit%|R&D investment / sales%|R&D + capex / sales%|  Operating profit|If made profit|1 Yr operating profit%|4 Yr operating profit%|Operating profit / sales%|             Sales|1 Yr sales growth%|4 Yr sales growth%|         Employees|1 Yr employees growth%|4 Yr employees growth%|  R&D / employees |1 Yr R&D / employees growth%|4 Yr R&D / employees growth%|Sales outside region%|        Market cap|Market cap change%|If market cap increase|   R&D spend 2008|   R&D spend 2007|   R&D spend 2006|    R&D spend 2005|\n",
      "+-------+--------------------+-----------------+---------+--------------------+--------+-----------------+------------------+--------------------+--------------+-------------------+---------------------------+---------------------------+----------------------------------+-----------------------+--------------------+------------------+--------------+----------------------+----------------------+-------------------------+------------------+------------------+------------------+------------------+----------------------+----------------------+------------------+----------------------------+----------------------------+---------------------+------------------+------------------+----------------------+-----------------+-----------------+-----------------+------------------+\n",
      "|  count|                1000|             1000|     1000|                 999|     686|             1000|              1000|                1000|          1000|               1000|                        997|                        959|                               749|                    999|                 999|              1000|          1000|                   829|                   861|                      999|              1000|               998|               971|               938|                   925|                   881|               938|                         925|                         871|                  414|               915|               891|                  1000|              998|              986|              960|               938|\n",
      "|   mean|                null|            500.5|     null|  6.7845305076206E12|    null|           21.933|          4898.845|                null|          null| 344.01706000000064|          4.707121364092277|         27.550573514077165|                 2455.390787716957|     29.179479479479465|   35.11111111111115|          767.5885|          null|   -167.93244873341376|    -80.68641114982579|       -20.36766766766769|         9554.0055|-3.934869739478958|12.223480947476828|39100.518123667374|    0.5221621621621622|    10.779795686719638| 23.85213219616205|           4.624864864864865|          15.486796785304248|    44.56280193236715|10276.604918032786|39.402918069584736|                  null|351.2296893787574|327.8509939148074|305.0490208333339|283.04523454157754|\n",
      "| stddev|                null|288.8194360957496|     null|5.847740931733301E12|    null|13.54954246833085|2958.1980235476994|                null|          null|  716.3581396597746|          31.46787868595996|          67.91197865369779|                 44317.48713431463|     402.03083420632635|   405.6701165893959|2293.6262242733496|          null|    3825.6490201510915|      997.952160928155|       502.05162261385425|18138.994652466885| 30.92068941071608| 46.90699840773325| 65794.42114900915|    15.798131145833281|    27.342758729839396|40.200800959642656|          27.662796920238097|           50.99614137040324|    24.13119243436802|20100.440174710067| 599.8996136549727|                  null|741.5450337361714|717.2556298774444|667.4289307342806| 647.0012199060138|\n",
      "|    min|3Com, USA (now pa...|                1|Australia|    1027729851625.48|       *|                1|              1353|           Aerospace| FT Global 500|             100.43|                         -1|                         -1|                               0.8|                    0.1|                 0.1|              -0.5|            No|                    -1|                    -1|                     -0.1|                 0|                -1|                -1|             10000|                    -1|                    -1|               0.2|                          -1|                          -1|                    0|               0.5|                -1|                    No|             0.00|             0.00|             0.00|              0.00|\n",
      "|    max|voestalpine, Austria|              999|      USA|    835338475725.744|       *|                9|              9578|               Water|      Unlisted|              99.70|                         97|                         99|                              99.8|                    9.9|                 9.9|              9980|           Yes|                    95|                    97|                      9.9|               999|                 9|                98|             99834|                    99|                    96|              98.6|                          97|                          98|                   99|              9999|                99|                   Yes|            99.82|           997.78|           998.82|             99.70|\n",
      "+-------+--------------------+-----------------+---------+--------------------+--------+-----------------+------------------+--------------------+--------------+-------------------+---------------------------+---------------------------+----------------------------------+-----------------------+--------------------+------------------+--------------+----------------------+----------------------+-------------------------+------------------+------------------+------------------+------------------+----------------------+----------------------+------------------+----------------------------+----------------------------+---------------------+------------------+------------------+----------------------+-----------------+-----------------+-----------------+------------------+\n",
      "\n"
     ]
    }
   ],
   "source": [
    "df.describe().show()"
   ]
  },
  {
   "cell_type": "code",
   "execution_count": 60,
   "metadata": {},
   "outputs": [
    {
     "data": {
      "text/plain": [
       "DataFrame[Company: string, Company ID: string, Country: string, Country GDP $: string, Not IFRS: string, Industry group: string, ICB code: string, Industry description: string, Listing status: string, 2009 R&D investment: string, 1 Yr R&D investment growth%: string, 4 Yr R&D investment growth%: string, R&D investment / operation profit%: string, R&D investment / sales%: string, R&D + capex / sales%: string, Operating profit: string, If made profit: string, 1 Yr operating profit%: string, 4 Yr operating profit%: string, Operating profit / sales%: string, Sales: string, 1 Yr sales growth%: string, 4 Yr sales growth%: string, Employees: string, 1 Yr employees growth%: string, 4 Yr employees growth%: string, R&D / employees : string, 1 Yr R&D / employees growth%: string, 4 Yr R&D / employees growth%: string, Sales outside region%: string, Market cap: string, Market cap change%: string, If market cap increase: string, R&D spend 2008: string, R&D spend 2007: string, R&D spend 2006: string, R&D spend 2005: string]"
      ]
     },
     "execution_count": 60,
     "metadata": {},
     "output_type": "execute_result"
    }
   ],
   "source": [
    "#Data cleaning\n",
    "df.na.drop()"
   ]
  },
  {
   "cell_type": "code",
   "execution_count": 61,
   "metadata": {},
   "outputs": [
    {
     "data": {
      "text/plain": [
       "149"
      ]
     },
     "execution_count": 61,
     "metadata": {},
     "output_type": "execute_result"
    }
   ],
   "source": [
    "df.na.drop().count()"
   ]
  },
  {
   "cell_type": "code",
   "execution_count": 62,
   "metadata": {},
   "outputs": [
    {
     "name": "stdout",
     "output_type": "stream",
     "text": [
      "root\n",
      " |-- Company: string (nullable = true)\n",
      " |-- Company ID: string (nullable = true)\n",
      " |-- Country: string (nullable = true)\n",
      " |-- Country GDP $: string (nullable = true)\n",
      " |-- Not IFRS: string (nullable = true)\n",
      " |-- Industry group: string (nullable = true)\n",
      " |-- ICB code: string (nullable = true)\n",
      " |-- Industry description: string (nullable = true)\n",
      " |-- Listing status: string (nullable = true)\n",
      " |-- 2009 R&D investment: string (nullable = true)\n",
      " |-- 1 Yr R&D investment growth%: string (nullable = true)\n",
      " |-- 4 Yr R&D investment growth%: string (nullable = true)\n",
      " |-- R&D investment / operation profit%: string (nullable = true)\n",
      " |-- R&D investment / sales%: string (nullable = true)\n",
      " |-- R&D + capex / sales%: string (nullable = true)\n",
      " |-- Operating profit: string (nullable = true)\n",
      " |-- If made profit: string (nullable = true)\n",
      " |-- 1 Yr operating profit%: string (nullable = true)\n",
      " |-- 4 Yr operating profit%: string (nullable = true)\n",
      " |-- Operating profit / sales%: string (nullable = true)\n",
      " |-- Sales: string (nullable = true)\n",
      " |-- 1 Yr sales growth%: string (nullable = true)\n",
      " |-- 4 Yr sales growth%: string (nullable = true)\n",
      " |-- Employees: string (nullable = true)\n",
      " |-- 1 Yr employees growth%: string (nullable = true)\n",
      " |-- 4 Yr employees growth%: string (nullable = true)\n",
      " |-- R&D / employees : string (nullable = true)\n",
      " |-- 1 Yr R&D / employees growth%: string (nullable = true)\n",
      " |-- 4 Yr R&D / employees growth%: string (nullable = true)\n",
      " |-- Sales outside region%: string (nullable = true)\n",
      " |-- Market cap: string (nullable = true)\n",
      " |-- Market cap change%: string (nullable = true)\n",
      " |-- If market cap increase: string (nullable = true)\n",
      " |-- R&D spend 2008: string (nullable = true)\n",
      " |-- R&D spend 2007: string (nullable = true)\n",
      " |-- R&D spend 2006: string (nullable = true)\n",
      " |-- R&D spend 2005: string (nullable = true)\n",
      "\n"
     ]
    }
   ],
   "source": [
    "df.printSchema()"
   ]
  },
  {
   "cell_type": "code",
   "execution_count": 17,
   "metadata": {},
   "outputs": [
    {
     "name": "stdout",
     "output_type": "stream",
     "text": [
      "+--------------------+----------+---------+----------------+--------+--------------+--------+--------------------+--------------+-------------------+---------------------------+---------------------------+----------------------------------+-----------------------+--------------------+----------------+--------------+----------------------+----------------------+-------------------------+-----+------------------+------------------+---------+----------------------+----------------------+----------------+----------------------------+----------------------------+---------------------+----------+------------------+----------------------+--------------+--------------+--------------+--------------+\n",
      "|             Company|Company ID|  Country|   Country GDP $|Not IFRS|Industry group|ICB code|Industry description|Listing status|2009 R&D investment|1 Yr R&D investment growth%|4 Yr R&D investment growth%|R&D investment / operation profit%|R&D investment / sales%|R&D + capex / sales%|Operating profit|If made profit|1 Yr operating profit%|4 Yr operating profit%|Operating profit / sales%|Sales|1 Yr sales growth%|4 Yr sales growth%|Employees|1 Yr employees growth%|4 Yr employees growth%|R&D / employees |1 Yr R&D / employees growth%|4 Yr R&D / employees growth%|Sales outside region%|Market cap|Market cap change%|If market cap increase|R&D spend 2008|R&D spend 2007|R&D spend 2006|R&D spend 2005|\n",
      "+--------------------+----------+---------+----------------+--------+--------------+--------+--------------------+--------------+-------------------+---------------------------+---------------------------+----------------------------------+-----------------------+--------------------+----------------+--------------+----------------------+----------------------+-------------------------+-----+------------------+------------------+---------+----------------------+----------------------+----------------+----------------------------+----------------------------+---------------------+----------+------------------+----------------------+--------------+--------------+--------------+--------------+\n",
      "|Australia & New Z...|       241|Australia|1122922429785.22|    null|             4|    8355|               Banks| FT Global 500|             228.89|                         44|                        129|                               9.4|                    3.1|                 8.8|            2439|           Yes|                    -3|                   -12|                     33.3| 7321|                11|                25|    37687|                     2|                  null|             6.1|                          41|                        null|                 null|     31492|              null|                    No|        159.28|        112.50|         75.18|         53.46|\n",
      "|Commonwealth Bank...|       244|Australia|1122922429785.22|    null|             4|    8355|               Banks| FT Global 500|             196.04|                        169|                        484|                               5.5|                    2.1|                 8.1|            3592|           Yes|                     3|                   101|                     39.1| 9175|                13|               135|    44218|                    12|                    18|             4.4|                         141|                         412|                 null|     44232|                19|                   Yes|         72.96|         61.26|          0.05|          0.05|\n",
      "|National Australi...|       245|Australia|1122922429785.22|    null|             4|    8355|               Banks| FT Global 500|             190.47|                         60|                         32|                               6.9|                    2.0|                 5.4|            2775|           Yes|                    58|                    -9|                     29.7| 9343|                28|                38|    38953|                    -2|                     0|             4.9|                          63|                          32|                 null|     28249|                -5|                    No|        119.18|        156.49|        140.90|        160.39|\n",
      "|  Telstra, Australia|       283|Australia|1122922429785.22|       *|            12|    6535|Fixed line teleco...| FT Global 500|             785.25|                         -6|                         38|                              21.4|                    5.5|                18.0|            3661|           Yes|                     6|                     9|                     25.8|14205|                 3|                 9|    43181|                    -7|                    -7|            18.2|                           1|                          50|                 null|     20157|               -14|                    No|        839.83|        780.80|        348.07|        307.42|\n",
      "|Aristocrat Leisur...|       303|Australia|1122922429785.22|       *|            41|    5752|            Gambling|        Listed|              63.18|                         -3|                         19|                              null|                   12.5|                15.9|            -114|            No|                  -244|                  -171|                    -22.6|  506|               -16|               -21|     null|                  null|                  null|            null|                        null|                        null|                 null|      1021|               -21|                    No|         65.25|         58.01|         53.02|         36.63|\n",
      "|      CSL, Australia|       403|Australia|1122922429785.22|       *|            34|    4573|       Biotechnology| FT Global 500|             173.54|                         38|                         72|                              26.0|                    6.7|                13.1|             668|           Yes|                    25|                    82|                     26.0| 2574|                30|                50|    10340|                    11|                    30|            16.8|                          24|                          33|                 null|      9999|                -4|                    No|        125.37|        106.29|         89.68|         81.15|\n",
      "| Cochlear, Australia|       473|Australia|1122922429785.22|       *|            19|    4535|   Medical equipment|        Listed|              53.74|                         23|                         59|                              55.5|                   13.9|                16.8|              97|           Yes|                     7|                    47|                     25.0|  387|                15|                42|     1888|                     6|                    37|            28.5|                          17|                          14|                   89|      2184|                22|                   Yes|         43.65|         35.71|         31.58|         24.37|\n",
      "| OneSteel, Australia|       885|Australia|1122922429785.22|    null|            22|    1757|        Iron & steel|        Listed|             102.70|                         23|                        136|                              43.2|                    2.5|                 5.1|             237|           Yes|                   -17|                    22|                      5.9| 4033|                -3|                47|    11104|                    -5|                    30|             9.2|                          29|                          92|                 null|      2297|                 6|                   Yes|         83.71|         36.59|         30.52|         23.39|\n",
      "|  Intercell, Austria|       421|  Austria|384823184161.595|    null|            34|    4573|       Biotechnology|        Listed|              58.90|                         44|                         98|                              null|                  107.5|               124.9|             -29|            No|                  null|                  null|                    -52.7|   55|                11|                85|      403|                    24|                    86|           146.1|                          17|                           4|                   27|       596|               -44|                    No|         40.81|         29.63|         24.97|         23.40|\n",
      "|    Andritz, Austria|       686|  Austria|384823184161.595|    null|            21|    2757|Industrial machinery|        Listed|              43.76|                         -4|                         24|                              33.7|                    1.5|                 3.7|             130|           Yes|                   -33|                   -13|                      4.6| 2841|               -11|                13|    13049|                    -5|                    25|             3.4|                           1|                          -3|                   51|      1977|                27|                   Yes|         45.52|         40.34|         31.47|         24.12|\n",
      "|voestalpine, Austria|       886|  Austria|384823184161.595|    null|            22|    1757|        Iron & steel|        Listed|              96.67|                         -3|                         31|                              31.4|                    1.3|                 7.4|             308|           Yes|                   -66|                   -65|                      4.1| 7597|               -27|                -5|    41646|                    -4|                    24|             2.3|                           2|                           5|                 null|      3196|                 5|                   Yes|         99.51|         82.54|         58.64|         54.64|\n",
      "|   Borealis, Austria|       958|  Austria|384823184161.595|    null|             6|    1353| Commodity chemicals|      Unlisted|              78.19|                          6|                         61|                             209.5|                    1.9|                 8.4|              37|           Yes|                   -85|                   -90|                      0.9| 4188|               -30|               -20|     5215|                    -3|                     6|            15.0|                           9|                          54|                 null|      null|              null|                    No|         73.75|         43.54|         39.98|         36.43|\n",
      "|      Dexia, Belgium|       252|  Belgium|467559394365.929|    null|             4|    8355|               Banks|        Listed|              75.52|                         -7|                         11|                               6.1|                    1.4|                 6.9|            1247|           Yes|                  null|                    10|                     22.9| 5441|                72|                 5|    27280|                    -3|                    13|             2.8|                          -4|                           0|                 null|      5028|               -48|                    No|         80.85|         85.30|         63.08|         42.65|\n",
      "|        KBC, Belgium|       254|  Belgium|467559394365.929|    null|             4|    8355|               Banks|        Listed|              67.53|                        -29|                         18|                              null|                    1.4|                11.8|           -2471|            No|                  null|                  -228|                    -52.4| 4718|                10|               -50|    56939|                    -4|                     5|             1.2|                         -26|                          13|                 null|      9477|                25|                   Yes|         95.07|         39.98|         69.30|         24.88|\n",
      "|   Belgacom, Belgium|       296|  Belgium|467559394365.929|    null|            12|    6535|Fixed line teleco...|        Listed|              47.09|                         29|                         27|                               4.2|                    0.9|                 8.4|            1115|           Yes|                     9|                     4|                     21.2| 5262|                 0|                 1|    16878|                    -3|                    -5|             2.8|                          34|                          33|                 null|      7238|                -3|                    No|         36.43|         36.43|         36.43|         39.09|\n",
      "|        UCB, Belgium|       343|  Belgium|467559394365.929|    null|            34|    4577|     Pharmaceuticals|        Listed|             598.85|                        -12|                          1|                             195.9|                   21.6|                22.9|             306|           Yes|                   204|                    14|                     11.0| 2769|               -13|                 1|     9324|                   -17|                    -8|            64.2|                           6|                           9|                 null|      3357|               -13|                    No|        681.48|        693.91|        546.42|        454.02|\n",
      "|Anheuser-Busch In...|       555|  Belgium|467559394365.929|    null|             5|    3533|             Brewers| FT Global 500|              98.46|                        113|                        314|                               1.5|                    0.4|                 4.6|            6355|           Yes|                   103|                   130|                     27.9|22762|                59|                85|   116489|                    28|                    36|             0.8|                          66|                         210|                 null|     53152|                39|                   Yes|         46.20|         17.77|         15.10|         15.99|\n",
      "|Agfa-Gevaert, Bel...|       720|  Belgium|467559394365.929|    null|             9|    2737|Electronic equipment|        Listed|             134.16|                        -16|                        -23|                              92.1|                    5.5|                 6.7|             146|           Yes|                  null|                   183|                      6.0| 2448|                -9|               -15|    11508|                    -8|                   -16|            11.7|                          -8|                          -8|                 null|       435|                19|                   Yes|        159.04|        177.70|        179.48|        179.48|\n",
      "|      Barco, Belgium|       750|  Belgium|467559394365.929|    null|             9|    2737|Electronic equipment|        Listed|              54.36|                        -22|                        -22|                              null|                    9.6|                10.2|             -65|            No|                  null|                  -324|                    -11.5|  567|               -18|               -17|     3310|                    -9|                   -15|            16.4|                         -14|                          -9|                 null|       374|                -1|                    No|         69.27|         72.26|         70.43|         65.15|\n",
      "|    Bekaert, Belgium|       888|  Belgium|467559394365.929|    null|            22|    1757|        Iron & steel|        Listed|              56.36|                         -7|                         15|                              23.9|                    2.6|                 9.4|             236|           Yes|                    -1|                    31|                     10.9| 2166|                -8|                11|    18103|                     7|                    29|             3.1|                         -13|                         -11|                 null|      2538|                59|                   Yes|         60.89|         50.38|         44.04|         39.96|\n",
      "+--------------------+----------+---------+----------------+--------+--------------+--------+--------------------+--------------+-------------------+---------------------------+---------------------------+----------------------------------+-----------------------+--------------------+----------------+--------------+----------------------+----------------------+-------------------------+-----+------------------+------------------+---------+----------------------+----------------------+----------------+----------------------------+----------------------------+---------------------+----------+------------------+----------------------+--------------+--------------+--------------+--------------+\n",
      "only showing top 20 rows\n",
      "\n"
     ]
    }
   ],
   "source": [
    "df.show()"
   ]
  },
  {
   "cell_type": "code",
   "execution_count": 18,
   "metadata": {},
   "outputs": [
    {
     "name": "stdout",
     "output_type": "stream",
     "text": [
      "root\n",
      " |-- Company: string (nullable = true)\n",
      " |-- Company ID: string (nullable = true)\n",
      " |-- Country: string (nullable = true)\n",
      " |-- GDP: string (nullable = true)\n",
      " |-- Not IFRS: string (nullable = true)\n",
      " |-- Industry group: string (nullable = true)\n",
      " |-- ICB code: string (nullable = true)\n",
      " |-- Industry_description: string (nullable = true)\n",
      " |-- Listing status: string (nullable = true)\n",
      " |-- 2009_RD_investment: string (nullable = true)\n",
      " |-- 1_Yr_RD_investment_growth: string (nullable = true)\n",
      " |-- 4 Yr R&D investment growth%: string (nullable = true)\n",
      " |-- R&D investment / operation profit%: string (nullable = true)\n",
      " |-- R&D investment / sales%: string (nullable = true)\n",
      " |-- R&D + capex / sales%: string (nullable = true)\n",
      " |-- Operating_profit: string (nullable = true)\n",
      " |-- If made profit: string (nullable = true)\n",
      " |-- 1_Yr_operating_profit: string (nullable = true)\n",
      " |-- 4 Yr operating profit%: string (nullable = true)\n",
      " |-- Operating profit / sales%: string (nullable = true)\n",
      " |-- Sales: string (nullable = true)\n",
      " |-- 1_Yr_sales_growth: string (nullable = true)\n",
      " |-- 4 Yr sales growth%: string (nullable = true)\n",
      " |-- Employees: string (nullable = true)\n",
      " |-- 1 Yr employees growth%: string (nullable = true)\n",
      " |-- 4 Yr employees growth%: string (nullable = true)\n",
      " |-- R&D / employees : string (nullable = true)\n",
      " |-- 1 Yr R&D / employees growth%: string (nullable = true)\n",
      " |-- 4 Yr R&D / employees growth%: string (nullable = true)\n",
      " |-- Sales_outside_region: string (nullable = true)\n",
      " |-- Market_cap: string (nullable = true)\n",
      " |-- Market_cap_change: string (nullable = true)\n",
      " |-- If market cap increase: string (nullable = true)\n",
      " |-- RD_spend_2008: string (nullable = true)\n",
      " |-- R&D spend 2007: string (nullable = true)\n",
      " |-- R&D spend 2006: string (nullable = true)\n",
      " |-- R&D spend 2005: string (nullable = true)\n",
      "\n"
     ]
    }
   ],
   "source": [
    "df2 = df.withColumnRenamed(\"Country GDP $\",\"GDP\").withColumnRenamed(\"2009 R&D investment\",\"2009_RD_investment\").withColumnRenamed(\"Industry description\",\"Industry_description\").withColumnRenamed(\"1 Yr R&D investment growth%\",\"1_Yr_RD_investment_growth\").withColumnRenamed(\"Operating profit\",\"Operating_profit\").withColumnRenamed(\"1 Yr operating profit%\",\"1_Yr_operating_profit\").withColumnRenamed(\"1 Yr sales growth%\",\"1_Yr_sales_growth\").withColumnRenamed(\"Sales outside region%\", \"Sales_outside_region\").withColumnRenamed(\"Market cap\",\"Market_cap\").withColumnRenamed(\"Market cap change%\",\"Market_cap_change\").withColumnRenamed(\"R&D spend 2008\",\"RD_spend_2008\")\n",
    "df2.printSchema()"
   ]
  },
  {
   "cell_type": "code",
   "execution_count": 47,
   "metadata": {},
   "outputs": [
    {
     "name": "stdout",
     "output_type": "stream",
     "text": [
      "root\n",
      " |-- Company: string (nullable = true)\n",
      " |-- Sales: double (nullable = true)\n",
      " |-- Country: string (nullable = true)\n",
      " |-- Operating_profit: double (nullable = true)\n",
      " |-- 2009_RD_investment: double (nullable = true)\n",
      " |-- Employees: double (nullable = true)\n",
      " |-- Market_cap: double (nullable = true)\n",
      "\n",
      "+--------------------+-------+---------+----------------+------------------+---------+----------+\n",
      "|             Company|  Sales|  Country|Operating_profit|2009_RD_investment|Employees|Market_cap|\n",
      "+--------------------+-------+---------+----------------+------------------+---------+----------+\n",
      "|Australia & New Z...| 7321.0|Australia|          2439.0|            228.89|  37687.0|   31492.0|\n",
      "|Commonwealth Bank...| 9175.0|Australia|          3592.0|            196.04|  44218.0|   44232.0|\n",
      "|National Australi...| 9343.0|Australia|          2775.0|            190.47|  38953.0|   28249.0|\n",
      "|  Telstra, Australia|14205.0|Australia|          3661.0|            785.25|  43181.0|   20157.0|\n",
      "|Aristocrat Leisur...|  506.0|Australia|          -114.0|             63.18|     null|    1021.0|\n",
      "|      CSL, Australia| 2574.0|Australia|           668.0|            173.54|  10340.0|    9999.0|\n",
      "| Cochlear, Australia|  387.0|Australia|            97.0|             53.74|   1888.0|    2184.0|\n",
      "| OneSteel, Australia| 4033.0|Australia|           237.0|             102.7|  11104.0|    2297.0|\n",
      "|  Intercell, Austria|   55.0|  Austria|           -29.0|              58.9|    403.0|     596.0|\n",
      "|    Andritz, Austria| 2841.0|  Austria|           130.0|             43.76|  13049.0|    1977.0|\n",
      "|voestalpine, Austria| 7597.0|  Austria|           308.0|             96.67|  41646.0|    3196.0|\n",
      "|   Borealis, Austria| 4188.0|  Austria|            37.0|             78.19|   5215.0|      null|\n",
      "|      Dexia, Belgium| 5441.0|  Belgium|          1247.0|             75.52|  27280.0|    5028.0|\n",
      "|        KBC, Belgium| 4718.0|  Belgium|         -2471.0|             67.53|  56939.0|    9477.0|\n",
      "|   Belgacom, Belgium| 5262.0|  Belgium|          1115.0|             47.09|  16878.0|    7238.0|\n",
      "|        UCB, Belgium| 2769.0|  Belgium|           306.0|            598.85|   9324.0|    3357.0|\n",
      "|Anheuser-Busch In...|22762.0|  Belgium|          6355.0|             98.46| 116489.0|   53152.0|\n",
      "|Agfa-Gevaert, Bel...| 2448.0|  Belgium|           146.0|            134.16|  11508.0|     435.0|\n",
      "|      Barco, Belgium|  567.0|  Belgium|           -65.0|             54.36|   3310.0|     374.0|\n",
      "|    Bekaert, Belgium| 2166.0|  Belgium|           236.0|             56.36|  18103.0|    2538.0|\n",
      "+--------------------+-------+---------+----------------+------------------+---------+----------+\n",
      "only showing top 20 rows\n",
      "\n"
     ]
    }
   ],
   "source": [
    "df3 = df2.selectExpr(\"Company\",\n",
    "                    \"cast(Sales as double) Sales\",\n",
    "                    \"Country\",\n",
    "                    \"cast(Operating_profit as double) Operating_profit\",\n",
    "                    \"cast(2009_RD_investment as double) 2009_RD_investment\",\n",
    "                    \"cast(Employees as double) Employees\",\n",
    "                    \"cast(Market_cap as double) Market_cap\")\n",
    "df3.printSchema()\n",
    "df3.show()"
   ]
  },
  {
   "cell_type": "code",
   "execution_count": 79,
   "metadata": {},
   "outputs": [
    {
     "data": {
      "text/plain": [
       "856"
      ]
     },
     "execution_count": 79,
     "metadata": {},
     "output_type": "execute_result"
    }
   ],
   "source": [
    "df4 = df3.na.drop()\n",
    "df4.count()"
   ]
  },
  {
   "cell_type": "code",
   "execution_count": 80,
   "metadata": {
    "scrolled": true
   },
   "outputs": [
    {
     "name": "stdout",
     "output_type": "stream",
     "text": [
      "root\n",
      " |-- Company: string (nullable = true)\n",
      " |-- Sales: double (nullable = true)\n",
      " |-- Country: string (nullable = true)\n",
      " |-- Operating_profit: double (nullable = true)\n",
      " |-- 2009_RD_investment: double (nullable = true)\n",
      " |-- Employees: double (nullable = true)\n",
      " |-- Market_cap: double (nullable = true)\n",
      " |-- features: vector (nullable = true)\n",
      "\n",
      "+--------------------+-------+---------+----------------+------------------+---------+----------+--------------------+\n",
      "|             Company|  Sales|  Country|Operating_profit|2009_RD_investment|Employees|Market_cap|            features|\n",
      "+--------------------+-------+---------+----------------+------------------+---------+----------+--------------------+\n",
      "|Australia & New Z...| 7321.0|Australia|          2439.0|            228.89|  37687.0|   31492.0|[2439.0,228.89,37...|\n",
      "|Commonwealth Bank...| 9175.0|Australia|          3592.0|            196.04|  44218.0|   44232.0|[3592.0,196.04,44...|\n",
      "|National Australi...| 9343.0|Australia|          2775.0|            190.47|  38953.0|   28249.0|[2775.0,190.47,38...|\n",
      "|  Telstra, Australia|14205.0|Australia|          3661.0|            785.25|  43181.0|   20157.0|[3661.0,785.25,43...|\n",
      "|      CSL, Australia| 2574.0|Australia|           668.0|            173.54|  10340.0|    9999.0|[668.0,173.54,103...|\n",
      "| Cochlear, Australia|  387.0|Australia|            97.0|             53.74|   1888.0|    2184.0|[97.0,53.74,1888....|\n",
      "| OneSteel, Australia| 4033.0|Australia|           237.0|             102.7|  11104.0|    2297.0|[237.0,102.7,1110...|\n",
      "|  Intercell, Austria|   55.0|  Austria|           -29.0|              58.9|    403.0|     596.0|[-29.0,58.9,403.0...|\n",
      "|    Andritz, Austria| 2841.0|  Austria|           130.0|             43.76|  13049.0|    1977.0|[130.0,43.76,1304...|\n",
      "|voestalpine, Austria| 7597.0|  Austria|           308.0|             96.67|  41646.0|    3196.0|[308.0,96.67,4164...|\n",
      "|      Dexia, Belgium| 5441.0|  Belgium|          1247.0|             75.52|  27280.0|    5028.0|[1247.0,75.52,272...|\n",
      "|        KBC, Belgium| 4718.0|  Belgium|         -2471.0|             67.53|  56939.0|    9477.0|[-2471.0,67.53,56...|\n",
      "|   Belgacom, Belgium| 5262.0|  Belgium|          1115.0|             47.09|  16878.0|    7238.0|[1115.0,47.09,168...|\n",
      "|        UCB, Belgium| 2769.0|  Belgium|           306.0|            598.85|   9324.0|    3357.0|[306.0,598.85,932...|\n",
      "|Anheuser-Busch In...|22762.0|  Belgium|          6355.0|             98.46| 116489.0|   53152.0|[6355.0,98.46,116...|\n",
      "|Agfa-Gevaert, Bel...| 2448.0|  Belgium|           146.0|            134.16|  11508.0|     435.0|[146.0,134.16,115...|\n",
      "|      Barco, Belgium|  567.0|  Belgium|           -65.0|             54.36|   3310.0|     374.0|[-65.0,54.36,3310...|\n",
      "|    Bekaert, Belgium| 2166.0|  Belgium|           236.0|             56.36|  18103.0|    2538.0|[236.0,56.36,1810...|\n",
      "|     Solvay, Belgium| 7539.0|  Belgium|           683.0|            502.89|  28204.0|    4796.0|[683.0,502.89,282...|\n",
      "|    Umicore, Belgium| 6177.0|  Belgium|           121.0|            120.57|   9713.0|    2597.0|[121.0,120.57,971...|\n",
      "+--------------------+-------+---------+----------------+------------------+---------+----------+--------------------+\n",
      "only showing top 20 rows\n",
      "\n"
     ]
    }
   ],
   "source": [
    "from pyspark.ml.linalg import Vectors\n",
    "from pyspark.ml.feature import VectorAssembler\n",
    "\n",
    "assembler = VectorAssembler(\n",
    "    inputCols=['Operating_profit',\n",
    " '2009_RD_investment',\n",
    " 'Employees',\n",
    " 'Market_cap'],\n",
    "outputCol=\"features\")\n",
    "output = assembler.transform(df4)\n",
    "output.printSchema()\n",
    "output.show()"
   ]
  },
  {
   "cell_type": "code",
   "execution_count": 81,
   "metadata": {},
   "outputs": [
    {
     "name": "stdout",
     "output_type": "stream",
     "text": [
      "+--------------------+-------+\n",
      "|            features|  Sales|\n",
      "+--------------------+-------+\n",
      "|[2439.0,228.89,37...| 7321.0|\n",
      "|[3592.0,196.04,44...| 9175.0|\n",
      "|[2775.0,190.47,38...| 9343.0|\n",
      "|[3661.0,785.25,43...|14205.0|\n",
      "|[668.0,173.54,103...| 2574.0|\n",
      "|[97.0,53.74,1888....|  387.0|\n",
      "|[237.0,102.7,1110...| 4033.0|\n",
      "|[-29.0,58.9,403.0...|   55.0|\n",
      "|[130.0,43.76,1304...| 2841.0|\n",
      "|[308.0,96.67,4164...| 7597.0|\n",
      "|[1247.0,75.52,272...| 5441.0|\n",
      "|[-2471.0,67.53,56...| 4718.0|\n",
      "|[1115.0,47.09,168...| 5262.0|\n",
      "|[306.0,598.85,932...| 2769.0|\n",
      "|[6355.0,98.46,116...|22762.0|\n",
      "|[146.0,134.16,115...| 2448.0|\n",
      "|[-65.0,54.36,3310...|  567.0|\n",
      "|[236.0,56.36,1810...| 2166.0|\n",
      "|[683.0,502.89,282...| 7539.0|\n",
      "|[121.0,120.57,971...| 6177.0|\n",
      "+--------------------+-------+\n",
      "only showing top 20 rows\n",
      "\n"
     ]
    }
   ],
   "source": [
    "model_data = output.select(\"features\",\"Sales\")\n",
    "model_data.show()"
   ]
  },
  {
   "cell_type": "code",
   "execution_count": 82,
   "metadata": {},
   "outputs": [
    {
     "name": "stdout",
     "output_type": "stream",
     "text": [
      "+--------------------+--------+\n",
      "|            features|   Sales|\n",
      "+--------------------+--------+\n",
      "|[-4325.0,6013.74,...|136559.0|\n",
      "|[-2599.0,3445.06,...| 51655.0|\n",
      "|[-2595.0,559.0,19...| 38690.0|\n",
      "|[-2471.0,67.53,56...|  4718.0|\n",
      "|[-2223.0,2516.12,...| 44265.0|\n",
      "|[-2221.0,1459.8,1...| 29106.0|\n",
      "|[-2181.0,331.91,7...|  6513.0|\n",
      "|[-1842.0,1227.52,...|  5602.0|\n",
      "|[-1759.0,3029.78,...| 56121.0|\n",
      "|[-1683.0,257.66,1...| 36040.0|\n",
      "|[-1646.0,590.13,4...|  6072.0|\n",
      "|[-1520.0,3307.93,...| 50776.0|\n",
      "|[-1413.0,1300.6,5...| 18939.0|\n",
      "|[-1355.0,117.28,1...| 42849.0|\n",
      "|[-1220.0,2055.98,...| 43018.0|\n",
      "|[-1207.0,2770.59,...| 66521.0|\n",
      "|[-1181.0,214.47,5...|  2202.0|\n",
      "|[-1122.0,412.85,4...|  7674.0|\n",
      "|[-1058.0,437.07,1...|  3245.0|\n",
      "|[-1057.0,59.26,51...|  4410.0|\n",
      "+--------------------+--------+\n",
      "only showing top 20 rows\n",
      "\n"
     ]
    }
   ],
   "source": [
    "train_data,test_data = model_data.randomSplit([0.8,0.2])\n",
    "train_data.show()"
   ]
  },
  {
   "cell_type": "code",
   "execution_count": 83,
   "metadata": {},
   "outputs": [],
   "source": [
    "from pyspark.ml.regression import LinearRegression"
   ]
  },
  {
   "cell_type": "code",
   "execution_count": 84,
   "metadata": {},
   "outputs": [],
   "source": [
    "lr = LinearRegression(labelCol='Sales')"
   ]
  },
  {
   "cell_type": "code",
   "execution_count": 85,
   "metadata": {},
   "outputs": [],
   "source": [
    "lrModel = lr.fit(train_data)"
   ]
  },
  {
   "cell_type": "code",
   "execution_count": 86,
   "metadata": {},
   "outputs": [
    {
     "name": "stdout",
     "output_type": "stream",
     "text": [
      "Coefficients: [2.1667281934710645,2.78137712307252,0.11388333781690699,0.2203143616168274] Intercept: 184.02481116980144\n"
     ]
    }
   ],
   "source": [
    "print(\"Coefficients: {} Intercept: {}\".format(lrModel.coefficients,lrModel.intercept))"
   ]
  },
  {
   "cell_type": "code",
   "execution_count": 87,
   "metadata": {},
   "outputs": [],
   "source": [
    "test_results = lrModel.evaluate(test_data)"
   ]
  },
  {
   "cell_type": "code",
   "execution_count": 88,
   "metadata": {},
   "outputs": [
    {
     "name": "stdout",
     "output_type": "stream",
     "text": [
      "+-------------------+\n",
      "|          residuals|\n",
      "+-------------------+\n",
      "|    9582.9728288142|\n",
      "|  8057.155024593623|\n",
      "|  5084.750841164885|\n",
      "| 2405.3030640164357|\n",
      "| 4363.8952755482815|\n",
      "|  3352.949451407898|\n",
      "|  4885.680632894415|\n",
      "|  2658.886134866456|\n",
      "| 136.57619796838708|\n",
      "|  286.1448485644603|\n",
      "| 1276.8853721600867|\n",
      "|   8213.57484355157|\n",
      "|  415.7266239176206|\n",
      "|-1783.1804660854386|\n",
      "|-177.37302509661276|\n",
      "| 3125.0699703557884|\n",
      "| -569.2364175049333|\n",
      "|  25.06624752982492|\n",
      "|  698.3064807706432|\n",
      "|-235.56931989326358|\n",
      "+-------------------+\n",
      "only showing top 20 rows\n",
      "\n",
      "RSME: 8640.848968645289\n"
     ]
    }
   ],
   "source": [
    "test_results.residuals.show()\n",
    "\n",
    "print(\"RSME: {}\".format(test_results.rootMeanSquaredError))"
   ]
  },
  {
   "cell_type": "code",
   "execution_count": 89,
   "metadata": {},
   "outputs": [
    {
     "name": "stdout",
     "output_type": "stream",
     "text": [
      "R2: 0.6879419956752286\n"
     ]
    }
   ],
   "source": [
    "print(\"R2: {}\".format(test_results.r2))"
   ]
  },
  {
   "cell_type": "code",
   "execution_count": 90,
   "metadata": {},
   "outputs": [],
   "source": [
    "trainingSummary = lrModel.summary"
   ]
  },
  {
   "cell_type": "code",
   "execution_count": 91,
   "metadata": {},
   "outputs": [
    {
     "name": "stdout",
     "output_type": "stream",
     "text": [
      "Deviance Residuals: [-47793.25395672888, 108275.00667536427]\n",
      "Coefficient Standard Errors: [0.3188040680694874, 0.7248652755766982, 0.0075625832853041175, 0.04436131156257767, 521.6065436926772]\n",
      "Explained Variance: 266081661.49671704\n",
      "Features Col: features\n",
      "Label Col: Sales\n",
      "Mean Absolute Error: 4711.828761660059\n",
      "Mean Squared Error: 124023729.85901089\n",
      "Num Instances: 675\n",
      "Objective History: [0.0]\n",
      "PValues: [2.3733903731226746e-11, 0.00013627048195874458, 0.0, 8.667040143350846e-07, 0.7243464371747206]\n",
      "Prediction Col: prediction\n",
      "R2: 0.6820763501165852\n",
      "Root Mean Squared Error: 11136.594176812356\n",
      "TValues: [6.796425800309419, 3.837095273821296, 15.058787919494277, 4.9663626672995, 0.35280387754917836]\n",
      "Total Iterations: 1\n"
     ]
    }
   ],
   "source": [
    "print(\"Deviance Residuals: \" +str(trainingSummary.devianceResiduals))\n",
    "print(\"Coefficient Standard Errors: \" +str(trainingSummary.coefficientStandardErrors))\n",
    "print(\"Explained Variance: \" +str(trainingSummary.explainedVariance))\n",
    "print(\"Features Col: \" +str(trainingSummary.featuresCol))\n",
    "print(\"Label Col: \" +str(trainingSummary.labelCol))\n",
    "print(\"Mean Absolute Error: \" +str(trainingSummary.meanAbsoluteError))\n",
    "print(\"Mean Squared Error: \" +str(trainingSummary.meanSquaredError))\n",
    "print(\"Num Instances: \" +str(trainingSummary.numInstances))\n",
    "print(\"Objective History: \" +str(trainingSummary.objectiveHistory))\n",
    "print(\"PValues: \" +str(trainingSummary.pValues))\n",
    "print(\"Prediction Col: \" +str(trainingSummary.predictionCol))\n",
    "print(\"R2: \" +str(trainingSummary.r2))\n",
    "print(\"Root Mean Squared Error: \" +str(trainingSummary.rootMeanSquaredError))\n",
    "print(\"TValues: \" +str(trainingSummary.tValues))\n",
    "print(\"Total Iterations: \" +str(trainingSummary.totalIterations))"
   ]
  },
  {
   "cell_type": "code",
   "execution_count": 93,
   "metadata": {},
   "outputs": [
    {
     "name": "stdout",
     "output_type": "stream",
     "text": [
      "+--------------------+-------+-------------------+\n",
      "|            features|  Sales|         prediction|\n",
      "+--------------------+-------+-------------------+\n",
      "|[-4139.0,113.73,6...| 9727.0| -5055.002249873933|\n",
      "|[-1772.0,2305.05,...|28041.0| 13196.948462855447|\n",
      "|[-1562.0,1343.43,...|18938.0| 7117.2139763285395|\n",
      "|[-1251.0,58.41,39...| 1014.0|-2813.7622470495385|\n",
      "|[-1183.0,660.15,1...| 5833.0|-2001.4562657553784|\n",
      "|[-1005.0,156.67,2...|40318.0| 40000.664442029716|\n",
      "|[-902.0,104.65,59...|11608.0|  6778.187502537703|\n",
      "|[-618.0,45.39,123...| 3364.0|  876.5156684784098|\n",
      "|[-437.0,56.16,320...| 3686.0|  4522.337622857567|\n",
      "|[-365.0,54.8,1500...| 1719.0| 2233.0975923063816|\n",
      "+--------------------+-------+-------------------+\n",
      "only showing top 10 rows\n",
      "\n"
     ]
    }
   ],
   "source": [
    "predict_model = lr.fit(test_data)\n",
    "test_results = predict_model.evaluate(test_data)\n",
    "test_results.predictions.show(10)"
   ]
  },
  {
   "cell_type": "code",
   "execution_count": null,
   "metadata": {},
   "outputs": [],
   "source": []
  }
 ],
 "metadata": {
  "kernelspec": {
   "display_name": "Python 3",
   "language": "python",
   "name": "python3"
  },
  "language_info": {
   "codemirror_mode": {
    "name": "ipython",
    "version": 3
   },
   "file_extension": ".py",
   "mimetype": "text/x-python",
   "name": "python",
   "nbconvert_exporter": "python",
   "pygments_lexer": "ipython3",
   "version": "3.5.2"
  }
 },
 "nbformat": 4,
 "nbformat_minor": 2
}
