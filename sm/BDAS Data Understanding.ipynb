{
 "cells": [
  {
   "cell_type": "code",
   "execution_count": 6,
   "metadata": {},
   "outputs": [],
   "source": [
    "import findspark\n",
    "findspark.init('/home/ubuntu/spark-2.1.1-bin-hadoop2.7')\n",
    "import pyspark\n",
    "from pyspark.sql import SparkSession\n",
    "spark = SparkSession.builder.appName('basics').getOrCreate()\n",
    "%matplotlib inline\n",
    "import matplotlib.pyplot as plt\n",
    "import numpy as np\n",
    "import seaborn as sns\n",
    "import pandas"
   ]
  },
  {
   "cell_type": "code",
   "execution_count": 2,
   "metadata": {},
   "outputs": [],
   "source": [
    "df = spark.read.format(\"csv\").option(\"header\",\"true\").load(\"./2010_RD_Scoreboard_Global_cleaned_constructed_done.csv\")"
   ]
  },
  {
   "cell_type": "code",
   "execution_count": 3,
   "metadata": {},
   "outputs": [
    {
     "data": {
      "text/plain": [
       "1000"
      ]
     },
     "execution_count": 3,
     "metadata": {},
     "output_type": "execute_result"
    }
   ],
   "source": [
    "df.count()"
   ]
  },
  {
   "cell_type": "code",
   "execution_count": 8,
   "metadata": {},
   "outputs": [
    {
     "name": "stdout",
     "output_type": "stream",
     "text": [
      "+-------+--------------------+-----------------+---------+--------------------+--------+-----------------+------------------+--------------------+--------------+-------------------+---------------------------+---------------------------+----------------------------------+-----------------------+--------------------+------------------+--------------+----------------------+----------------------+-------------------------+------------------+------------------+------------------+------------------+----------------------+----------------------+------------------+----------------------------+----------------------------+---------------------+------------------+------------------+----------------------+-----------------+-----------------+-----------------+------------------+\n",
      "|summary|             Company|       Company ID|  Country|       Country GDP $|Not IFRS|   Industry group|          ICB code|Industry description|Listing status|2009 R&D investment|1 Yr R&D investment growth%|4 Yr R&D investment growth%|R&D investment / operation profit%|R&D investment / sales%|R&D + capex / sales%|  Operating profit|If made profit|1 Yr operating profit%|4 Yr operating profit%|Operating profit / sales%|             Sales|1 Yr sales growth%|4 Yr sales growth%|         Employees|1 Yr employees growth%|4 Yr employees growth%|  R&D / employees |1 Yr R&D / employees growth%|4 Yr R&D / employees growth%|Sales outside region%|        Market cap|Market cap change%|If market cap increase|   R&D spend 2008|   R&D spend 2007|   R&D spend 2006|    R&D spend 2005|\n",
      "+-------+--------------------+-----------------+---------+--------------------+--------+-----------------+------------------+--------------------+--------------+-------------------+---------------------------+---------------------------+----------------------------------+-----------------------+--------------------+------------------+--------------+----------------------+----------------------+-------------------------+------------------+------------------+------------------+------------------+----------------------+----------------------+------------------+----------------------------+----------------------------+---------------------+------------------+------------------+----------------------+-----------------+-----------------+-----------------+------------------+\n",
      "|  count|                1000|             1000|     1000|                 999|     686|             1000|              1000|                1000|          1000|               1000|                        997|                        959|                               749|                    999|                 999|              1000|          1000|                   829|                   861|                      999|              1000|               998|               971|               938|                   925|                   881|               938|                         925|                         871|                  414|               915|               891|                  1000|              998|              986|              960|               938|\n",
      "|   mean|                null|            500.5|     null|  6.7845305076206E12|    null|           21.933|          4898.845|                null|          null| 344.01706000000064|          4.707121364092277|         27.550573514077165|                 2455.390787716957|     29.179479479479465|   35.11111111111115|          767.5885|          null|   -167.93244873341376|    -80.68641114982579|       -20.36766766766769|         9554.0055|-3.934869739478958|12.223480947476828|39100.518123667374|    0.5221621621621622|    10.779795686719638| 23.85213219616205|           4.624864864864865|          15.486796785304248|    44.56280193236715|10276.604918032786|39.402918069584736|                  null|351.2296893787574|327.8509939148074|305.0490208333339|283.04523454157754|\n",
      "| stddev|                null|288.8194360957496|     null|5.847740931733301E12|    null|13.54954246833085|2958.1980235476994|                null|          null|  716.3581396597746|          31.46787868595996|          67.91197865369779|                 44317.48713431463|     402.03083420632635|   405.6701165893959|2293.6262242733496|          null|    3825.6490201510915|      997.952160928155|       502.05162261385425|18138.994652466885| 30.92068941071608| 46.90699840773325| 65794.42114900915|    15.798131145833281|    27.342758729839396|40.200800959642656|          27.662796920238097|           50.99614137040324|    24.13119243436802|20100.440174710067| 599.8996136549727|                  null|741.5450337361714|717.2556298774444|667.4289307342806| 647.0012199060138|\n",
      "|    min|3Com, USA (now pa...|                1|Australia|    1027729851625.48|       *|                1|              1353|           Aerospace| FT Global 500|             100.43|                         -1|                         -1|                               0.8|                    0.1|                 0.1|              -0.5|            No|                    -1|                    -1|                     -0.1|                 0|                -1|                -1|             10000|                    -1|                    -1|               0.2|                          -1|                          -1|                    0|               0.5|                -1|                    No|             0.00|             0.00|             0.00|              0.00|\n",
      "|    max|voestalpine, Austria|              999|      USA|    835338475725.744|       *|                9|              9578|               Water|      Unlisted|              99.70|                         97|                         99|                              99.8|                    9.9|                 9.9|              9980|           Yes|                    95|                    97|                      9.9|               999|                 9|                98|             99834|                    99|                    96|              98.6|                          97|                          98|                   99|              9999|                99|                   Yes|            99.82|           997.78|           998.82|             99.70|\n",
      "+-------+--------------------+-----------------+---------+--------------------+--------+-----------------+------------------+--------------------+--------------+-------------------+---------------------------+---------------------------+----------------------------------+-----------------------+--------------------+------------------+--------------+----------------------+----------------------+-------------------------+------------------+------------------+------------------+------------------+----------------------+----------------------+------------------+----------------------------+----------------------------+---------------------+------------------+------------------+----------------------+-----------------+-----------------+-----------------+------------------+\n",
      "\n"
     ]
    }
   ],
   "source": [
    "df.describe().show()"
   ]
  },
  {
   "cell_type": "code",
   "execution_count": 9,
   "metadata": {},
   "outputs": [
    {
     "name": "stdout",
     "output_type": "stream",
     "text": [
      "root\n",
      " |-- Company: string (nullable = true)\n",
      " |-- Company ID: string (nullable = true)\n",
      " |-- Country: string (nullable = true)\n",
      " |-- Country GDP $: string (nullable = true)\n",
      " |-- Not IFRS: string (nullable = true)\n",
      " |-- Industry group: string (nullable = true)\n",
      " |-- ICB code: string (nullable = true)\n",
      " |-- Industry description: string (nullable = true)\n",
      " |-- Listing status: string (nullable = true)\n",
      " |-- 2009 R&D investment: string (nullable = true)\n",
      " |-- 1 Yr R&D investment growth%: string (nullable = true)\n",
      " |-- 4 Yr R&D investment growth%: string (nullable = true)\n",
      " |-- R&D investment / operation profit%: string (nullable = true)\n",
      " |-- R&D investment / sales%: string (nullable = true)\n",
      " |-- R&D + capex / sales%: string (nullable = true)\n",
      " |-- Operating profit: string (nullable = true)\n",
      " |-- If made profit: string (nullable = true)\n",
      " |-- 1 Yr operating profit%: string (nullable = true)\n",
      " |-- 4 Yr operating profit%: string (nullable = true)\n",
      " |-- Operating profit / sales%: string (nullable = true)\n",
      " |-- Sales: string (nullable = true)\n",
      " |-- 1 Yr sales growth%: string (nullable = true)\n",
      " |-- 4 Yr sales growth%: string (nullable = true)\n",
      " |-- Employees: string (nullable = true)\n",
      " |-- 1 Yr employees growth%: string (nullable = true)\n",
      " |-- 4 Yr employees growth%: string (nullable = true)\n",
      " |-- R&D / employees : string (nullable = true)\n",
      " |-- 1 Yr R&D / employees growth%: string (nullable = true)\n",
      " |-- 4 Yr R&D / employees growth%: string (nullable = true)\n",
      " |-- Sales outside region%: string (nullable = true)\n",
      " |-- Market cap: string (nullable = true)\n",
      " |-- Market cap change%: string (nullable = true)\n",
      " |-- If market cap increase: string (nullable = true)\n",
      " |-- R&D spend 2008: string (nullable = true)\n",
      " |-- R&D spend 2007: string (nullable = true)\n",
      " |-- R&D spend 2006: string (nullable = true)\n",
      " |-- R&D spend 2005: string (nullable = true)\n",
      "\n"
     ]
    }
   ],
   "source": [
    "df.printSchema()"
   ]
  },
  {
   "cell_type": "code",
   "execution_count": 9,
   "metadata": {},
   "outputs": [
    {
     "data": {
      "text/plain": [
       "['Company',\n",
       " 'Company ID',\n",
       " 'Country',\n",
       " 'Country GDP $',\n",
       " 'Not IFRS',\n",
       " 'Industry group',\n",
       " 'ICB code',\n",
       " 'Industry description',\n",
       " 'Listing status',\n",
       " '2009 R&D investment',\n",
       " '1 Yr R&D investment growth%',\n",
       " '4 Yr R&D investment growth%',\n",
       " 'R&D investment / operation profit%',\n",
       " 'R&D investment / sales%',\n",
       " 'R&D + capex / sales%',\n",
       " 'Operating profit',\n",
       " 'If made profit',\n",
       " '1 Yr operating profit%',\n",
       " '4 Yr operating profit%',\n",
       " 'Operating profit / sales%',\n",
       " 'Sales',\n",
       " '1 Yr sales growth%',\n",
       " '4 Yr sales growth%',\n",
       " 'Employees',\n",
       " '1 Yr employees growth%',\n",
       " '4 Yr employees growth%',\n",
       " 'R&D / employees ',\n",
       " '1 Yr R&D / employees growth%',\n",
       " '4 Yr R&D / employees growth%',\n",
       " 'Sales outside region%',\n",
       " 'Market cap',\n",
       " 'Market cap change%',\n",
       " 'If market cap increase',\n",
       " 'R&D spend 2008',\n",
       " 'R&D spend 2007',\n",
       " 'R&D spend 2006',\n",
       " 'R&D spend 2005']"
      ]
     },
     "execution_count": 9,
     "metadata": {},
     "output_type": "execute_result"
    }
   ],
   "source": [
    "df.columns"
   ]
  },
  {
   "cell_type": "code",
   "execution_count": 13,
   "metadata": {},
   "outputs": [
    {
     "data": {
      "text/plain": [
       "[('Company', 'string'),\n",
       " ('Company ID', 'string'),\n",
       " ('Country', 'string'),\n",
       " ('Country GDP $', 'string'),\n",
       " ('Not IFRS', 'string'),\n",
       " ('Industry group', 'string'),\n",
       " ('ICB code', 'string'),\n",
       " ('Industry description', 'string'),\n",
       " ('Listing status', 'string'),\n",
       " ('2009 R&D investment', 'string'),\n",
       " ('1 Yr R&D investment growth%', 'string'),\n",
       " ('4 Yr R&D investment growth%', 'string'),\n",
       " ('R&D investment / operation profit%', 'string'),\n",
       " ('R&D investment / sales%', 'string'),\n",
       " ('R&D + capex / sales%', 'string'),\n",
       " ('Operating profit', 'string'),\n",
       " ('If made profit', 'string'),\n",
       " ('1 Yr operating profit%', 'string'),\n",
       " ('4 Yr operating profit%', 'string'),\n",
       " ('Operating profit / sales%', 'string'),\n",
       " ('Sales', 'string'),\n",
       " ('1 Yr sales growth%', 'string'),\n",
       " ('4 Yr sales growth%', 'string'),\n",
       " ('Employees', 'string'),\n",
       " ('1 Yr employees growth%', 'string'),\n",
       " ('4 Yr employees growth%', 'string'),\n",
       " ('R&D / employees ', 'string'),\n",
       " ('1 Yr R&D / employees growth%', 'string'),\n",
       " ('4 Yr R&D / employees growth%', 'string'),\n",
       " ('Sales outside region%', 'string'),\n",
       " ('Market cap', 'string'),\n",
       " ('Market cap change%', 'string'),\n",
       " ('If market cap increase', 'string'),\n",
       " ('R&D spend 2008', 'string'),\n",
       " ('R&D spend 2007', 'string'),\n",
       " ('R&D spend 2006', 'string'),\n",
       " ('R&D spend 2005', 'string')]"
      ]
     },
     "execution_count": 13,
     "metadata": {},
     "output_type": "execute_result"
    }
   ],
   "source": [
    "df.dtypes"
   ]
  },
  {
   "cell_type": "code",
   "execution_count": 7,
   "metadata": {},
   "outputs": [],
   "source": [
    "TargetData = pandas.read_csv(\"./2010_RD_Scoreboard_Global_cleaned_constructed_done.csv\")"
   ]
  },
  {
   "cell_type": "code",
   "execution_count": 8,
   "metadata": {},
   "outputs": [
    {
     "data": {
      "text/plain": [
       "<matplotlib.axes._subplots.AxesSubplot at 0x7fb89d8767b8>"
      ]
     },
     "execution_count": 8,
     "metadata": {},
     "output_type": "execute_result"
    },
    {
     "data": {
      "image/png": "[encoded data removed]",
      "text/plain": [
       "<Figure size 3600x720 with 1 Axes>"
      ]
     },
     "metadata": {},
     "output_type": "display_data"
    }
   ],
   "source": [
    "sns.set(style='whitegrid', color_codes=True)\n",
    "sns.set(rc={'figure.figsize':(50, 10)})\n",
    "sns.countplot('Country',data=TargetData, hue='If made profit')"
   ]
  },
  {
   "cell_type": "code",
   "execution_count": null,
   "metadata": {},
   "outputs": [],
   "source": []
  }
 ],
 "metadata": {
  "kernelspec": {
   "display_name": "Python 3",
   "language": "python",
   "name": "python3"
  },
  "language_info": {
   "codemirror_mode": {
    "name": "ipython",
    "version": 3
   },
   "file_extension": ".py",
   "mimetype": "text/x-python",
   "name": "python",
   "nbconvert_exporter": "python",
   "pygments_lexer": "ipython3",
   "version": "3.5.2"
  }
 },
 "nbformat": 4,
 "nbformat_minor": 2
}
